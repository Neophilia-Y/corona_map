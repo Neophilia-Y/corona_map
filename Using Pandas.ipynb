{
 "cells": [
  {
   "cell_type": "code",
   "execution_count": 11,
   "metadata": {},
   "outputs": [
    {
     "data": {
      "text/plain": [
       "US          3270\n",
       "Russia        83\n",
       "Japan         49\n",
       "India         37\n",
       "Colombia      34\n",
       "            ... \n",
       "Namibia        1\n",
       "Burma          1\n",
       "Romania        1\n",
       "Yemen          1\n",
       "Guinea         1\n",
       "Name: Country_Region, Length: 188, dtype: int64"
      ]
     },
     "execution_count": 11,
     "metadata": {},
     "output_type": "execute_result"
    }
   ],
   "source": [
    "import pandas as pd\n",
    "\n",
    "df = pd.read_csv(\"data/daily_report.csv\")\n",
    "\n",
    "df[\"Country_Region\"].value_counts()"
   ]
  },
  {
   "cell_type": "code",
   "execution_count": 14,
   "metadata": {},
   "outputs": [
    {
     "data": {
      "text/plain": [
       "Confirmed    36515563\n",
       "Deaths        1061877\n",
       "Recovered    25456141\n",
       "dtype: int64"
      ]
     },
     "execution_count": 14,
     "metadata": {},
     "output_type": "execute_result"
    }
   ],
   "source": [
    "daily_df = df[[\"Confirmed\", \"Deaths\", \"Recovered\"]].sum()\n",
    "daily_df"
   ]
  }
 ],
 "metadata": {
  "kernelspec": {
   "display_name": "Python 3.7.7 64-bit",
   "language": "python",
   "name": "python37764bit30f60bda047b462d96b48806b8f01047"
  },
  "language_info": {
   "codemirror_mode": {
    "name": "ipython",
    "version": 3
   },
   "file_extension": ".py",
   "mimetype": "text/x-python",
   "name": "python",
   "nbconvert_exporter": "python",
   "pygments_lexer": "ipython3",
   "version": "3.7.7"
  }
 },
 "nbformat": 4,
 "nbformat_minor": 4
}
